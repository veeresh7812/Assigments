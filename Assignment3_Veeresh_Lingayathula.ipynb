{
  "nbformat": 4,
  "nbformat_minor": 0,
  "metadata": {
    "colab": {
      "name": "Assignment3_Veeresh_Lingayathula.ipynb",
      "provenance": []
    },
    "kernelspec": {
      "name": "python3",
      "display_name": "Python 3"
    }
  },
  "cells": [
    {
      "cell_type": "markdown",
      "metadata": {
        "id": "jKQ6luRmDaQ7",
        "colab_type": "text"
      },
      "source": [
        "                                               TASK1"
      ]
    },
    {
      "cell_type": "markdown",
      "metadata": {
        "id": "6O_3tjhrLIIu",
        "colab_type": "text"
      },
      "source": [
        "1.Write a function to compute 5/0 and use try/except to catch the exceptions."
      ]
    },
    {
      "cell_type": "markdown",
      "metadata": {
        "id": "acF0uAsaLFyk",
        "colab_type": "text"
      },
      "source": [
        ""
      ]
    },
    {
      "cell_type": "code",
      "metadata": {
        "id": "iZNYuF0JDdgz",
        "colab_type": "code",
        "outputId": "ef6f8694-f0e0-4064-c2c4-9f4c7a32407b",
        "colab": {
          "base_uri": "https://localhost:8080/",
          "height": 34
        }
      },
      "source": [
        "try:\n",
        "  value = 5/0\n",
        "except :\n",
        "  print(\"exception thrown\")"
      ],
      "execution_count": 0,
      "outputs": [
        {
          "output_type": "stream",
          "text": [
            "exception thrown\n"
          ],
          "name": "stdout"
        }
      ]
    },
    {
      "cell_type": "markdown",
      "metadata": {
        "id": "vg5ESCqgDyz6",
        "colab_type": "text"
      },
      "source": [
        "2.Implement a Python program to generate all sentences where subject is in [\"Americans\",\n",
        "\"Indians\"] and verb is in [\"Play\", \"watch\"] and the object is in [\"Baseball\",\"cricket\"].\n",
        "Hint: Subject,Verb and Object should be declared in the program as shown below.\n",
        "subjects=[\"Americans \",\"Indians\"]\n",
        "verbs=[\"play\",\"watch\"]\n",
        "objects=[\"Baseball\",\"Cricket\"]\n",
        "Output should come as below:\n",
        "Americans play Baseball.\n",
        "Americans play Cricket.\n",
        "Americans watch Baseball.\n",
        "Americans watch Cricket.\n",
        "Indians play Baseball.\n",
        "Indians play Cricket.\n",
        "Indians watch Baseball.\n",
        "Indians watch Cricket."
      ]
    },
    {
      "cell_type": "code",
      "metadata": {
        "id": "3vtn3-AHD4mx",
        "colab_type": "code",
        "outputId": "0128428f-b242-46e0-94a7-8e6212916449",
        "colab": {
          "base_uri": "https://localhost:8080/",
          "height": 153
        }
      },
      "source": [
        "subjects=[\"Americans \",\"Indians\"]\n",
        "verbs=[\"play\",\"watch\"]\n",
        "objects=[\"Baseball\",\"Cricket\"]\n",
        "\n",
        "for x in subjects:\n",
        "  for y in verbs:\n",
        "    for z in objects:\n",
        "      print(x+ \" \"+y+\" \"+z)"
      ],
      "execution_count": 0,
      "outputs": [
        {
          "output_type": "stream",
          "text": [
            "Americans  play Baseball\n",
            "Americans  play Cricket\n",
            "Americans  watch Baseball\n",
            "Americans  watch Cricket\n",
            "Indians play Baseball\n",
            "Indians play Cricket\n",
            "Indians watch Baseball\n",
            "Indians watch Cricket\n"
          ],
          "name": "stdout"
        }
      ]
    },
    {
      "cell_type": "markdown",
      "metadata": {
        "id": "SficaOhiEncw",
        "colab_type": "text"
      },
      "source": [
        "                                               TASK2"
      ]
    },
    {
      "cell_type": "markdown",
      "metadata": {
        "id": "7zP0B5Z5LWGV",
        "colab_type": "text"
      },
      "source": [
        "1. Write a function so that the columns of the output matrix are powers of the input vector. The order of the powers is determined by the increasing boolean argument. Specifically, when increasing is False, the i-th output column is the input vector raised element-wise to the power of N - i - 1. HINT: Such a matrix with a geometric progression in each row is named for Alexandre- Theophile Vandermonde."
      ]
    },
    {
      "cell_type": "code",
      "metadata": {
        "id": "HCpWee6xEpJa",
        "colab_type": "code",
        "outputId": "45ab6911-a373-4b9a-ae34-1c88d11b5a71",
        "colab": {
          "base_uri": "https://localhost:8080/",
          "height": 102
        }
      },
      "source": [
        "#Withouy NumPy\n",
        "def myVander(inputListn,N):\n",
        "  resultMatrix = []\n",
        "  for x in range(N):\n",
        "    result = map(lambda k : k**(N-1-x),inputListn)\n",
        "    resultMatrix.append(list(result))\n",
        "  print(resultMatrix)\n",
        "l = [1,2,3,4]\n",
        "myVander(l,4)\n",
        "\n",
        "#With NumPy concept\n",
        "import numpy as np\n",
        "lst = [1,2,3,4]\n",
        "arr = np.array(lst)\n",
        "np.vander(arr,increasing=False)\n",
        " \n",
        " \n",
        " "
      ],
      "execution_count": 16,
      "outputs": [
        {
          "output_type": "stream",
          "text": [
            "[[1, 8, 27, 64], [1, 4, 9, 16], [1, 2, 3, 4], [1, 1, 1, 1]]\n"
          ],
          "name": "stdout"
        },
        {
          "output_type": "execute_result",
          "data": {
            "text/plain": [
              "array([[ 1,  1,  1,  1],\n",
              "       [ 8,  4,  2,  1],\n",
              "       [27,  9,  3,  1],\n",
              "       [64, 16,  4,  1]])"
            ]
          },
          "metadata": {
            "tags": []
          },
          "execution_count": 16
        }
      ]
    }
  ]
}