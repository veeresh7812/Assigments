{
  "nbformat": 4,
  "nbformat_minor": 0,
  "metadata": {
    "colab": {
      "name": "Assignment-2.ipynb",
      "provenance": []
    },
    "kernelspec": {
      "name": "python3",
      "display_name": "Python 3"
    }
  },
  "cells": [
    {
      "cell_type": "markdown",
      "metadata": {
        "id": "_dUmurCs0nGS",
        "colab_type": "text"
      },
      "source": [
        "                                                     Task 1:"
      ]
    },
    {
      "cell_type": "markdown",
      "metadata": {
        "id": "mc0ea8ID4d4D",
        "colab_type": "text"
      },
      "source": [
        " 1.1 Write a Python Program to implement your own myreduce() function which works exactly like\n",
        "Python's built-in function reduce()"
      ]
    },
    {
      "cell_type": "code",
      "metadata": {
        "id": "yfilvtoU4soB",
        "colab_type": "code",
        "colab": {
          "base_uri": "https://localhost:8080/",
          "height": 34
        },
        "outputId": "e8b67800-ef45-483c-eb45-4fa7613249db"
      },
      "source": [
        "def myReduce(function,data):\n",
        "  res = data[0]\n",
        "  for val in range(len(data)):\n",
        "    nextVal_Index = val+1\n",
        "    if(nextVal_Index < len(data)):\n",
        "      res = function(res,data[nextVal_Index])\n",
        "  return res\n",
        "\n",
        "x = [1,2,3,4,5]\n",
        "y = myReduce(lambda a,b:a*b,x)\n",
        "print(y)"
      ],
      "execution_count": 1,
      "outputs": [
        {
          "output_type": "stream",
          "text": [
            "120\n"
          ],
          "name": "stdout"
        }
      ]
    },
    {
      "cell_type": "markdown",
      "metadata": {
        "id": "ULhdxDiA0qOz",
        "colab_type": "text"
      },
      "source": [
        "1.2.Write a Python program to implement your own myfilter() function which works exactly like\n",
        "Python's built-in function filter()"
      ]
    },
    {
      "cell_type": "code",
      "metadata": {
        "id": "VrlhSaa10u_P",
        "colab_type": "code",
        "colab": {
          "base_uri": "https://localhost:8080/",
          "height": 34
        },
        "outputId": "1b464eac-0cf4-4928-edae-7db0d2d99208"
      },
      "source": [
        "  def myFilter(function,data):\n",
        "    result_list = []\n",
        "    for val in range(len(data)):\n",
        "      if(True == function(data[val])):\n",
        "        result_list.append(data[val])\n",
        "    return result_list\n",
        "        \n",
        "        \n",
        "  \n",
        "  list_data = [2,3,4,5,8,55,34,24,67,525,40,37,56]\n",
        "  data = myFilter(lambda val : val%5 == 0,list_data)\n",
        "  print(data)"
      ],
      "execution_count": 2,
      "outputs": [
        {
          "output_type": "stream",
          "text": [
            "[5, 55, 525, 40]\n"
          ],
          "name": "stdout"
        }
      ]
    },
    {
      "cell_type": "markdown",
      "metadata": {
        "id": "05tks1myTWDn",
        "colab_type": "text"
      },
      "source": [
        "2.Implement List comprehensions to produce the following lists.\n",
        "Write List comprehensions to produce the following Lists\n",
        "['A', 'C', 'A', 'D', 'G', 'I', ’L’, ‘ D’]\n",
        "['x', 'xx', 'xxx', 'xxxx', 'y', 'yy', 'yyy', 'yyyy', 'z', 'zz', 'zzz', 'zzzz']\n",
        "['x', 'y', 'z', 'xx', 'yy', 'zz', 'xx', 'yy', 'zz', 'xxxx', 'yyyy', 'zzzz']\n",
        "[[2], [3], [4], [3], [4], [5], [4], [5], [6]]\n",
        "[[2, 3, 4, 5], [3, 4, 5, 6], [4, 5, 6, 7], [5, 6, 7, 8]]\n",
        "[(1, 1), (2, 1), (3, 1), (1, 2), (2, 2), (3, 2), (1, 3), (2, 3), (3, 3)]"
      ]
    },
    {
      "cell_type": "code",
      "metadata": {
        "id": "X_g2JSzvTZh5",
        "colab_type": "code",
        "colab": {
          "base_uri": "https://localhost:8080/",
          "height": 119
        },
        "outputId": "51ec7d8b-e0b9-43b1-86cb-a9029fa55db9"
      },
      "source": [
        "#['A', 'C', 'A', 'D', 'G', 'I', ’L’, ‘ D’]\n",
        "list1 = list(x for x in \"ACADGILD\")\n",
        "print(list1)\n",
        "\n",
        "#['x', 'xx', 'xxx', 'xxxx', 'y', 'yy', 'yyy', 'yyyy', 'z', 'zz', 'zzz', 'zzzz']\n",
        "list2 = []\n",
        "for a in range(1,5):\n",
        "  list2.append(\"x\"*a)\n",
        "for a in range(1,5):\n",
        "  list2.append(\"y\"*a)\n",
        "for a in range(1,5):\n",
        "  list2.append(\"z\"*a)\n",
        "\n",
        "print(list2)\n",
        "\n",
        "#['x', 'y', 'z', 'xx', 'yy', 'zz', 'xx', 'yy', 'zz', 'xxxx', 'yyyy', 'zzzz']\n",
        "list3 = []\n",
        "for val in range(1,5):\n",
        "  if(val == 3):\n",
        "    val = 2\n",
        "  list3.append(\"x\"*val)\n",
        "  list3.append(\"y\"*val)\n",
        "  list3.append(\"z\"*val)\n",
        "\n",
        "\n",
        "print(list3)\n",
        "\n",
        "#[[2], [3], [4], [3], [4], [5], [4], [5], [6]]\n",
        "list4 = []\n",
        "for value in range(1,4):\n",
        "  for item in range(value+1,value+4):\n",
        "    l1 = [item]\n",
        "    list4.append(l1)\n",
        "\n",
        "print(list4)\n",
        "\n",
        "\n",
        "\n",
        "\n",
        "#[[2, 3, 4, 5], [3, 4, 5, 6], [4, 5, 6, 7], [5, 6, 7, 8]]\n",
        "\n",
        "list5 = []\n",
        "for value in range(1,5):\n",
        "  lst = [value+1,value+2,value+3,value+4]\n",
        "  list5.append(lst)\n",
        "print(list5)\n",
        "\n",
        "\n",
        "#[(1, 1), (2, 1), (3, 1), (1, 2), (2, 2), (3, 2), (1, 3), (2, 3), (3, 3)]\n",
        "list6 = []\n",
        "for  value in range(1,4):\n",
        "  for value2 in range(1,4):\n",
        "    tuple_val = (value2,value)\n",
        "    list6.append(tuple_val)\n",
        "\n",
        "print(list6)\n",
        "\n",
        "  \n",
        "    \n",
        "\n",
        "  \n",
        "\n",
        "\n",
        "        \n",
        "  \n",
        "\n",
        "\n"
      ],
      "execution_count": 5,
      "outputs": [
        {
          "output_type": "stream",
          "text": [
            "['A', 'C', 'A', 'D', 'G', 'I', 'L', 'D']\n",
            "['x', 'xx', 'xxx', 'xxxx', 'y', 'yy', 'yyy', 'yyyy', 'z', 'zz', 'zzz', 'zzzz']\n",
            "['x', 'y', 'z', 'xx', 'yy', 'zz', 'xx', 'yy', 'zz', 'xxxx', 'yyyy', 'zzzz']\n",
            "[[2], [3], [4], [3], [4], [5], [4], [5], [6]]\n",
            "[[2, 3, 4, 5], [3, 4, 5, 6], [4, 5, 6, 7], [5, 6, 7, 8]]\n",
            "[(1, 1), (2, 1), (3, 1), (1, 2), (2, 2), (3, 2), (1, 3), (2, 3), (3, 3)]\n"
          ],
          "name": "stdout"
        }
      ]
    },
    {
      "cell_type": "markdown",
      "metadata": {
        "id": "vDgejx5KlxTx",
        "colab_type": "text"
      },
      "source": [
        "3.Implement a function longestWord() that takes a list of words and returns the longest one."
      ]
    },
    {
      "cell_type": "code",
      "metadata": {
        "id": "x5appP32lzNo",
        "colab_type": "code",
        "colab": {
          "base_uri": "https://localhost:8080/",
          "height": 34
        },
        "outputId": "b5afd3d0-0b78-4e87-8804-a2cb321d265d"
      },
      "source": [
        "def longestWord(listOfWords):\n",
        "  longOne = 0\n",
        "  index = 0\n",
        "  for x in range(len(listOfWords)):\n",
        "    if(longOne < len(listOfWords[x])):\n",
        "      longOne = len(listOfWords[x])\n",
        "      index = x\n",
        "  print(listOfWords[x])\n",
        "\n",
        "\n",
        "l = [\"I\",\"am\",\"learning\",\"dataScience\"]\n",
        "\n",
        "longestWord(l)\n"
      ],
      "execution_count": 7,
      "outputs": [
        {
          "output_type": "stream",
          "text": [
            "dataScience\n"
          ],
          "name": "stdout"
        }
      ]
    },
    {
      "cell_type": "markdown",
      "metadata": {
        "id": "kYWRetOv0jMb",
        "colab_type": "text"
      },
      "source": [
        "                                                       TASK 2"
      ]
    },
    {
      "cell_type": "markdown",
      "metadata": {
        "id": "ppc4Jtvx0jH3",
        "colab_type": "text"
      },
      "source": [
        "1.1\n",
        "Write a Python Program(with class concepts) to find the area of the triangle using the below\n",
        "formula.\n",
        "area = (s*(s-a)*(s-b)*(s-c)) ** 0.5\n",
        "Function to take the length of the sides of triangle from user should be defined in the parent\n",
        "class and function to calculate the area should be defined in subclass."
      ]
    },
    {
      "cell_type": "code",
      "metadata": {
        "id": "IeKBYzj00sXo",
        "colab_type": "code",
        "colab": {
          "base_uri": "https://localhost:8080/",
          "height": 51
        },
        "outputId": "9501bc20-e331-4152-a43e-e37682288ec8"
      },
      "source": [
        "class parent :\n",
        "  def __init__(self,s,a,b,c):\n",
        "    self.s = s\n",
        "    self.a = a\n",
        "    self.b = b\n",
        "    self.c = c\n",
        "\n",
        "class subclass(parent):\n",
        "  def __init(self,s,a,b,c):\n",
        "    parent.__init__(self,s,a,b,c)\n",
        "  def triangle_area(self):\n",
        "    area = (self.s*(self.s-self.a)*(self.s-self.b)*(self.s-self.c)) ** 0.5\n",
        "    print(\"Area of the triagle is :  \")\n",
        "    print(area)\n",
        "\n",
        "\n",
        "obj = subclass(1,2,3,4)\n",
        "obj.triangle_area()"
      ],
      "execution_count": 11,
      "outputs": [
        {
          "output_type": "stream",
          "text": [
            "Area of the triagle is :  \n",
            "(1.4998798865218462e-16+2.449489742783178j)\n"
          ],
          "name": "stdout"
        }
      ]
    },
    {
      "cell_type": "markdown",
      "metadata": {
        "id": "aCCciC8e6GAR",
        "colab_type": "text"
      },
      "source": [
        "1.2Write a function filter_long_words() that takes a list of words and an integer n and returns the list\n",
        "of words that are longer than n."
      ]
    },
    {
      "cell_type": "code",
      "metadata": {
        "id": "Xsbhpu906IS9",
        "colab_type": "code",
        "colab": {
          "base_uri": "https://localhost:8080/",
          "height": 34
        },
        "outputId": "12999f12-1134-43e4-d981-ffb4f29d31d2"
      },
      "source": [
        "def filter_long_words(listOfWords,value):\n",
        "  wordsList = []\n",
        "  for x in range(len(listOfWords)):\n",
        "    if(len(listOfWords[x]) > value):\n",
        "      wordsList.append(listOfWords[x])\n",
        "  return wordsList\n",
        "      \n",
        "       \n",
        "    \n",
        "lst = [\"a\",\"ab\",\"abc\",\"abcd\",\"abcdef\",\"abcdefg\"]\n",
        "print(filter_long_words(lst,2))\n",
        "\n"
      ],
      "execution_count": 14,
      "outputs": [
        {
          "output_type": "stream",
          "text": [
            "['abc', 'abcd', 'abcdef', 'abcdefg']\n"
          ],
          "name": "stdout"
        }
      ]
    },
    {
      "cell_type": "markdown",
      "metadata": {
        "id": "5ILY_psY97x7",
        "colab_type": "text"
      },
      "source": [
        "2.1 Write a Python program using function concept that maps list of words into a list of integers\n",
        "representing the lengths of the corresponding words .\n",
        "Hint: If a list [ ab,cde,erty] is passed on to the python function output should come as [2,3,4]\n",
        "Here 2,3 and 4 are the lengths of the words in the list."
      ]
    },
    {
      "cell_type": "code",
      "metadata": {
        "id": "CtG_70-M-Agn",
        "colab_type": "code",
        "colab": {
          "base_uri": "https://localhost:8080/",
          "height": 34
        },
        "outputId": "86fe3468-cc2a-4369-a937-d674fb56eb1e"
      },
      "source": [
        "def filter_long_words(listOfWords):\n",
        "  wordsList = []\n",
        "  for x in range(len(listOfWords)):\n",
        "    wordsList.append(len(listOfWords[x]))\n",
        "  return  wordsList\n",
        "    \n",
        "\n",
        "    \n",
        "lst = [\"a\",\"bv\",\"dsdsd\",\"veeresh\",\"ghsghjsaghashg\"]\n",
        "filter_long_words(lst)\n"
      ],
      "execution_count": 16,
      "outputs": [
        {
          "output_type": "execute_result",
          "data": {
            "text/plain": [
              "[1, 2, 5, 7, 14]"
            ]
          },
          "metadata": {
            "tags": []
          },
          "execution_count": 16
        }
      ]
    },
    {
      "cell_type": "code",
      "metadata": {
        "id": "xw98ayTG6IQw",
        "colab_type": "code",
        "colab": {}
      },
      "source": [
        ""
      ],
      "execution_count": 0,
      "outputs": []
    },
    {
      "cell_type": "markdown",
      "metadata": {
        "id": "xv-RZrgLkopL",
        "colab_type": "text"
      },
      "source": [
        "2.2Write a Python function which takes a character (i.e. a string of length 1) and returns True if it is\n",
        "a vowel, False otherwise."
      ]
    },
    {
      "cell_type": "code",
      "metadata": {
        "id": "5ClZXS0okrTe",
        "colab_type": "code",
        "colab": {
          "base_uri": "https://localhost:8080/",
          "height": 34
        },
        "outputId": "562d3110-5140-4e85-f67b-d93a89cf2b78"
      },
      "source": [
        "def isOwel(letter) :\n",
        "  vowels = \"aeiou\" \n",
        "  if vowels.find(letter) != -1:\n",
        "    return True\n",
        "  else :\n",
        "    return False\n",
        "\n",
        "print(isOwel('u'))"
      ],
      "execution_count": 17,
      "outputs": [
        {
          "output_type": "stream",
          "text": [
            "True\n"
          ],
          "name": "stdout"
        }
      ]
    },
    {
      "cell_type": "markdown",
      "metadata": {
        "id": "ArfgonsNkolo",
        "colab_type": "text"
      },
      "source": [
        ""
      ]
    }
  ]
}