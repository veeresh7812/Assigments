{
  "nbformat": 4,
  "nbformat_minor": 0,
  "metadata": {
    "colab": {
      "name": "Untitled0.ipynb",
      "provenance": [],
      "collapsed_sections": []
    },
    "kernelspec": {
      "name": "python3",
      "display_name": "Python 3"
    },
    "accelerator": "TPU"
  },
  "cells": [
    {
      "cell_type": "markdown",
      "metadata": {
        "id": "NofCy-b6dv8H",
        "colab_type": "text"
      },
      "source": [
        "                                               TASK1"
      ]
    },
    {
      "cell_type": "markdown",
      "metadata": {
        "id": "Fo4Pvpj0eapT",
        "colab_type": "text"
      },
      "source": [
        "1.Install Jupyter notebook and run the first program and share the screenshot of the output\n",
        "\n",
        "I am getting error\"Failed to create Menus\" while installing the Anaconda\n",
        "![alt text](https://drive.google.com/uc?id=1HVk2Y0r2VveQRI6Xd7_SqXXbVGHWh73G)\n",
        "\n",
        "so practing pyhton programmes on google colab.\n"
      ]
    },
    {
      "cell_type": "markdown",
      "metadata": {
        "id": "GEuO8vvrealo",
        "colab_type": "text"
      },
      "source": [
        "\n",
        "\n",
        "---\n",
        "\n"
      ]
    },
    {
      "cell_type": "code",
      "metadata": {
        "id": "Q9V66bM6eK4i",
        "colab_type": "code",
        "outputId": "90b65a10-1c16-49b7-d7ce-0e5088ada314",
        "colab": {
          "base_uri": "https://localhost:8080/",
          "height": 34
        }
      },
      "source": [
        "a = 2\n",
        "b = 4\n",
        "c = a+b\n",
        "print(c)"
      ],
      "execution_count": 19,
      "outputs": [
        {
          "output_type": "stream",
          "text": [
            "6\n"
          ],
          "name": "stdout"
        }
      ]
    },
    {
      "cell_type": "markdown",
      "metadata": {
        "id": "pgSccXb7euaf",
        "colab_type": "text"
      },
      "source": [
        "2.Write a program which will find all such numbers which are divisible by 7 but are not a multiple\n",
        "of 5, between 2000 and 3200 (both included). The numbers obtained should be printed in a\n",
        "comma-separated sequence on a single line."
      ]
    },
    {
      "cell_type": "code",
      "metadata": {
        "id": "MCMp5Eymez3x",
        "colab_type": "code",
        "outputId": "f9eb78ae-81b3-40c9-f424-de4d7e240e23",
        "colab": {
          "base_uri": "https://localhost:8080/",
          "height": 71
        }
      },
      "source": [
        "listOfNumber =list()\n",
        "for x in range(2000,3200):\n",
        "  if((x%7 ==0)and (x%5 != 0)):\n",
        "    listOfNumber.append(x)\n",
        "print(\"List of numbers which are divisible by 7 and not multiple of 5 between 2000 and 3200 \")\n",
        "print(listOfNumber)  "
      ],
      "execution_count": 20,
      "outputs": [
        {
          "output_type": "stream",
          "text": [
            "List of numbers which are divisible by 7 and not multiple of 5 between 2000 and 3200 \n",
            "[2002, 2009, 2016, 2023, 2037, 2044, 2051, 2058, 2072, 2079, 2086, 2093, 2107, 2114, 2121, 2128, 2142, 2149, 2156, 2163, 2177, 2184, 2191, 2198, 2212, 2219, 2226, 2233, 2247, 2254, 2261, 2268, 2282, 2289, 2296, 2303, 2317, 2324, 2331, 2338, 2352, 2359, 2366, 2373, 2387, 2394, 2401, 2408, 2422, 2429, 2436, 2443, 2457, 2464, 2471, 2478, 2492, 2499, 2506, 2513, 2527, 2534, 2541, 2548, 2562, 2569, 2576, 2583, 2597, 2604, 2611, 2618, 2632, 2639, 2646, 2653, 2667, 2674, 2681, 2688, 2702, 2709, 2716, 2723, 2737, 2744, 2751, 2758, 2772, 2779, 2786, 2793, 2807, 2814, 2821, 2828, 2842, 2849, 2856, 2863, 2877, 2884, 2891, 2898, 2912, 2919, 2926, 2933, 2947, 2954, 2961, 2968, 2982, 2989, 2996, 3003, 3017, 3024, 3031, 3038, 3052, 3059, 3066, 3073, 3087, 3094, 3101, 3108, 3122, 3129, 3136, 3143, 3157, 3164, 3171, 3178, 3192, 3199]\n"
          ],
          "name": "stdout"
        }
      ]
    },
    {
      "cell_type": "markdown",
      "metadata": {
        "id": "EV-B4wkTlgjd",
        "colab_type": "text"
      },
      "source": [
        "3.Write a Python program to accept the user's first and last name and then getting them printed in\n",
        "the the reverse order with a space between first name and last name."
      ]
    },
    {
      "cell_type": "code",
      "metadata": {
        "id": "f_5jAJ0WlkjM",
        "colab_type": "code",
        "outputId": "8602a65c-2564-4a69-ee5b-5b91499dca31",
        "colab": {
          "base_uri": "https://localhost:8080/",
          "height": 85
        }
      },
      "source": [
        "FirstName = input(\"enter the first name\")\n",
        "LastName = input(\"Enter the last name\")\n",
        "print(LastName+\"  \"+FirstName)\n",
        "print(FirstName[::-1]+\"  \"+LastName[::-1])"
      ],
      "execution_count": 21,
      "outputs": [
        {
          "output_type": "stream",
          "text": [
            "enter the first nameveeresh\n",
            "Enter the last nameLingayathula\n",
            "Lingayathula  veeresh\n",
            "hsereev  aluhtayagniL\n"
          ],
          "name": "stdout"
        }
      ]
    },
    {
      "cell_type": "markdown",
      "metadata": {
        "id": "vVxMvg9AmqE5",
        "colab_type": "text"
      },
      "source": [
        "4.Write a Python program to find the volume of a sphere with diameter 12 cm.\n",
        "Formula: V=4/3 * π * r \n"
      ]
    },
    {
      "cell_type": "code",
      "metadata": {
        "id": "OP41Y0hRmyrw",
        "colab_type": "code",
        "outputId": "8db832c4-3016-41d3-9e80-a659aa3bc7a7",
        "colab": {
          "base_uri": "https://localhost:8080/",
          "height": 51
        }
      },
      "source": [
        "V = (4/3)*(22/7)*(12)\n",
        "print(\"volume of a sphere with diameter 12 cm is   \")\n",
        "print(V)"
      ],
      "execution_count": 22,
      "outputs": [
        {
          "output_type": "stream",
          "text": [
            "volume of a sphere with diameter 12 cm is   \n",
            "50.28571428571428\n"
          ],
          "name": "stdout"
        }
      ]
    },
    {
      "cell_type": "markdown",
      "metadata": {
        "id": "DVcYT488EUhX",
        "colab_type": "text"
      },
      "source": [
        "                                                   Tasks 2"
      ]
    },
    {
      "cell_type": "markdown",
      "metadata": {
        "id": "l78Gp3f8EOUH",
        "colab_type": "text"
      },
      "source": [
        "1.Write a program which accepts a sequence of comma-separated numbers from console and\n",
        "generate a list."
      ]
    },
    {
      "cell_type": "code",
      "metadata": {
        "id": "FxWPVd41ABs9",
        "colab_type": "code",
        "colab": {
          "base_uri": "https://localhost:8080/",
          "height": 51
        },
        "outputId": "773a7de0-7c9d-4697-b582-473f7d0cd1cf"
      },
      "source": [
        "x = input(\"enter numbers separte by ,\")\n",
        "y = x.split(',')\n",
        "print(y)"
      ],
      "execution_count": 23,
      "outputs": [
        {
          "output_type": "stream",
          "text": [
            "enter numbers separte by ,1,2,3,4,5,6,7,8\n",
            "['1', '2', '3', '4', '5', '6', '7', '8']\n"
          ],
          "name": "stdout"
        }
      ]
    },
    {
      "cell_type": "markdown",
      "metadata": {
        "id": "AuAUOx_-_ZCX",
        "colab_type": "text"
      },
      "source": [
        "2.Create the below pattern using nested for loop in Python"
      ]
    },
    {
      "cell_type": "code",
      "metadata": {
        "id": "s5mHEP9v_cUa",
        "colab_type": "code",
        "colab": {
          "base_uri": "https://localhost:8080/",
          "height": 170
        },
        "outputId": "60736f8a-10ee-4413-cd11-d228298ee375"
      },
      "source": [
        "for x in range(1,6):\n",
        "  print(\"*\"*x)\n",
        "for y in range(4,0,-1):\n",
        "  print(\"*\"*y)"
      ],
      "execution_count": 24,
      "outputs": [
        {
          "output_type": "stream",
          "text": [
            "*\n",
            "**\n",
            "***\n",
            "****\n",
            "*****\n",
            "****\n",
            "***\n",
            "**\n",
            "*\n"
          ],
          "name": "stdout"
        }
      ]
    },
    {
      "cell_type": "markdown",
      "metadata": {
        "id": "66fi3lbP_89C",
        "colab_type": "text"
      },
      "source": [
        "3.Write a Python program to reverse a word after accepting the input from the user"
      ]
    },
    {
      "cell_type": "code",
      "metadata": {
        "id": "T57nWS1nAFBd",
        "colab_type": "code",
        "colab": {
          "base_uri": "https://localhost:8080/",
          "height": 51
        },
        "outputId": "a7cef3ad-a091-4c6f-a8ea-8ee3734a3d0a"
      },
      "source": [
        "inputTex = input(\"Enter input text\")\n",
        "outPutText = inputTex[::-1]\n",
        "print(outPutText)"
      ],
      "execution_count": 25,
      "outputs": [
        {
          "output_type": "stream",
          "text": [
            "Enter input texthello how are you\n",
            "uoy era woh olleh\n"
          ],
          "name": "stdout"
        }
      ]
    },
    {
      "cell_type": "markdown",
      "metadata": {
        "id": "LrAWQpVAAf15",
        "colab_type": "text"
      },
      "source": [
        "4.Write a Python Program to print the given string in the format specified in the sample output.\n",
        "WE, THE PEOPLE OF INDIA, having solemnly resolved to constitute India into a\n",
        "SOVEREIGN, SOCIALIST, SECULAR, DEMOCRATIC REPUBLIC and to secure to all\n",
        "its citizens"
      ]
    },
    {
      "cell_type": "code",
      "metadata": {
        "id": "VNmAMia2AjL1",
        "colab_type": "code",
        "colab": {
          "base_uri": "https://localhost:8080/",
          "height": 85
        },
        "outputId": "0a52c426-786c-4d54-9915-7ac8232c2057"
      },
      "source": [
        "string = \"WE, THE PEOPLE OF INDIA,\\n \\t having solemnly resolved to constitute India into a SOVEREIGN,\\n \\t\\t SOCIALIST, SECULAR, DEMOCRATIC REPUBLIC\\n \\t\\t\\t and to secure to allits citizens\"\n",
        "print(string)"
      ],
      "execution_count": 26,
      "outputs": [
        {
          "output_type": "stream",
          "text": [
            "WE, THE PEOPLE OF INDIA,\n",
            " \t having solemnly resolved to constitute India into a SOVEREIGN,\n",
            " \t\t SOCIALIST, SECULAR, DEMOCRATIC REPUBLIC\n",
            " \t\t\t and to secure to allits citizens\n"
          ],
          "name": "stdout"
        }
      ]
    },
    {
      "cell_type": "code",
      "metadata": {
        "id": "qrCYzqJlAFAK",
        "colab_type": "code",
        "colab": {}
      },
      "source": [
        ""
      ],
      "execution_count": 0,
      "outputs": []
    },
    {
      "cell_type": "code",
      "metadata": {
        "id": "Obolen8O_cSs",
        "colab_type": "code",
        "colab": {}
      },
      "source": [
        ""
      ],
      "execution_count": 0,
      "outputs": []
    }
  ]
}